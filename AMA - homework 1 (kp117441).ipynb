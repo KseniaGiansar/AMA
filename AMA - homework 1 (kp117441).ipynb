{
 "cells": [
  {
   "cell_type": "markdown",
   "id": "6553d5fe",
   "metadata": {},
   "source": [
    "### Exercise 1.6. Vector of differences\n",
    "Suppose x is an n-vector. The associated vector of differences is the\n",
    "(n − 1)-vector d given by d = (x2 − x1, x3 − x2, . . . , xn − xn−1). Express d in terms of x\n",
    "using vector operations (e.g., slicing notation, sum, difference, linear combinations, inner\n",
    "product). The difference vector has a simple interpretation when x represents a time\n",
    "series. For example, if x gives the daily value of some quantity, d gives the day-to-day\n",
    "changes in the quantity.\n"
   ]
  },
  {
   "cell_type": "code",
   "execution_count": 6,
   "id": "dfd9d6c8",
   "metadata": {},
   "outputs": [
    {
     "data": {
      "text/plain": [
       "10-element Vector{Float64}:\n",
       " 0.3012677107790006\n",
       " 0.16971853289095284\n",
       " 0.15726424523343996\n",
       " 0.9102551027886653\n",
       " 0.1978125685243739\n",
       " 0.6672807565915136\n",
       " 0.8945227840623562\n",
       " 0.8667399061679151\n",
       " 0.17509401276804282\n",
       " 0.8000735276167732"
      ]
     },
     "execution_count": 6,
     "metadata": {},
     "output_type": "execute_result"
    }
   ],
   "source": [
    "x = rand(10)"
   ]
  },
  {
   "cell_type": "code",
   "execution_count": 7,
   "id": "7d44ec63",
   "metadata": {},
   "outputs": [
    {
     "data": {
      "text/plain": [
       "diff (generic function with 1 method)"
      ]
     },
     "execution_count": 7,
     "metadata": {},
     "output_type": "execute_result"
    }
   ],
   "source": [
    "diff(x) = (x[2:end] - x[1:end-1])"
   ]
  },
  {
   "cell_type": "code",
   "execution_count": 8,
   "id": "9992e086",
   "metadata": {},
   "outputs": [
    {
     "data": {
      "text/plain": [
       "9-element Vector{Float64}:\n",
       " -0.13154917788804776\n",
       " -0.012454287657512886\n",
       "  0.7529908575552253\n",
       " -0.7124425342642914\n",
       "  0.46946818806713975\n",
       "  0.22724202747084254\n",
       " -0.027782877894441116\n",
       " -0.6916458933998723\n",
       "  0.6249795148487304"
      ]
     },
     "execution_count": 8,
     "metadata": {},
     "output_type": "execute_result"
    }
   ],
   "source": [
    "diff(x)"
   ]
  },
  {
   "cell_type": "markdown",
   "id": "c94162f7",
   "metadata": {},
   "source": [
    "### Exercise 1.7. Transforming between two encodings for Boolean vectors\n",
    "\n",
    "A Boolean n-vector is one for which all entries are either 0 or 1. Such vectors are used to encode whether each\n",
    "of n conditions holds, with ai = 1 meaning that condition i holds. Another common\n",
    "encoding of the same information uses the two values −1 and +1 for the entries. For\n",
    "example the Boolean vector (0, 1, 1, 0) would be written using this alternative encoding\n",
    "as (−1, +1, +1, −1). Suppose that x is a Boolean vector with entries that are 0 or 1, and\n",
    "y is a vector encoding the same information using the values −1 and +1. Express y in\n",
    "terms of x using vector notation. Also, express x in terms of y using vector notation."
   ]
  },
  {
   "cell_type": "code",
   "execution_count": 9,
   "id": "d08bb02a",
   "metadata": {},
   "outputs": [
    {
     "data": {
      "text/plain": [
       "5-element Vector{Int64}:\n",
       " 1\n",
       " 0\n",
       " 1\n",
       " 0\n",
       " 0"
      ]
     },
     "execution_count": 9,
     "metadata": {},
     "output_type": "execute_result"
    }
   ],
   "source": [
    "x = [1, 0, 1, 0, 0]"
   ]
  },
  {
   "cell_type": "code",
   "execution_count": 10,
   "id": "2a3f01b0",
   "metadata": {},
   "outputs": [
    {
     "data": {
      "text/plain": [
       "5-element Vector{Int64}:\n",
       "  1\n",
       " -1\n",
       "  1\n",
       " -1\n",
       " -1"
      ]
     },
     "execution_count": 10,
     "metadata": {},
     "output_type": "execute_result"
    }
   ],
   "source": [
    "y = 2 * x .− 1"
   ]
  },
  {
   "cell_type": "markdown",
   "id": "40b1601d",
   "metadata": {},
   "source": [
    "### Exercise 1.8. Profit and sales vectors\n",
    "\n",
    "A company sells n different products or items. The n-vector p\n",
    "gives the profit, in dollars per unit, for each of the n items. (The entries of p are typically\n",
    "positive, but a few items might have negative entries. These items are called loss leaders,\n",
    "and are used to increase customer engagement in the hope that the customer will make\n",
    "other, profitable purchases.) The n-vector s gives the total sales of each of the items, over\n",
    "some period (such as a month), i.e., si is the total number of units of item i sold. (These\n",
    "are also typically nonnegative, but negative entries can be used to reflect items that were\n",
    "purchased in a previous time period and returned in this one.) Express the total profit in\n",
    "terms of p and s using vector notation."
   ]
  },
  {
   "cell_type": "code",
   "execution_count": 11,
   "id": "da4f89e5",
   "metadata": {},
   "outputs": [
    {
     "data": {
      "text/plain": [
       "7-element Vector{Int64}:\n",
       " 1000\n",
       "  700\n",
       " -300\n",
       "  600\n",
       "  200\n",
       "  500\n",
       " -100"
      ]
     },
     "execution_count": 11,
     "metadata": {},
     "output_type": "execute_result"
    }
   ],
   "source": [
    "# profit\n",
    "p = [1000, 700, -300, 600, 200, 500, -100]"
   ]
  },
  {
   "cell_type": "code",
   "execution_count": 12,
   "id": "50d8215a",
   "metadata": {},
   "outputs": [
    {
     "data": {
      "text/plain": [
       "7-element Vector{Int64}:\n",
       " 5\n",
       " 6\n",
       " 9\n",
       " 2\n",
       " 1\n",
       " 3\n",
       " 8"
      ]
     },
     "execution_count": 12,
     "metadata": {},
     "output_type": "execute_result"
    }
   ],
   "source": [
    "# sales\n",
    "s = [5, 6, 9, 2, 1, 3, 8]"
   ]
  },
  {
   "cell_type": "code",
   "execution_count": 13,
   "id": "f3aa19f0",
   "metadata": {},
   "outputs": [
    {
     "data": {
      "text/plain": [
       "8600"
      ]
     },
     "execution_count": 13,
     "metadata": {},
     "output_type": "execute_result"
    }
   ],
   "source": [
    "# Total profit - inner product of p and s\n",
    "\n",
    "p'*s"
   ]
  },
  {
   "cell_type": "markdown",
   "id": "e58190f9",
   "metadata": {},
   "source": [
    "### Exercise 1.10. Total score from course record\n",
    "\n",
    "The record for each student in a class is given as a 10-\n",
    "vector r, where r1, . . . , r8 are the grades for the 8 homework assignments, each on a 0–10\n",
    "scale, r9 is the midterm exam grade on a 0–120 scale, and r10 is final exam score on a\n",
    "0–160 scale. The student’s total course score s, on a 0–100 scale, is based 25% on the\n",
    "homework, 35% on the midterm exam, and 40% on the final exam. Express s in the form\n",
    "s = wTr. (That is, determine the 10-vector w.) You can give the coefficients of w to 4\n",
    "digits after the decimal point."
   ]
  },
  {
   "cell_type": "code",
   "execution_count": 14,
   "id": "cfac98c1",
   "metadata": {},
   "outputs": [
    {
     "data": {
      "text/plain": [
       "10-element Vector{Int64}:\n",
       "   6\n",
       "   7\n",
       "   9\n",
       "   8\n",
       "   5\n",
       "   7\n",
       "   6\n",
       "   9\n",
       " 100\n",
       " 130"
      ]
     },
     "execution_count": 14,
     "metadata": {},
     "output_type": "execute_result"
    }
   ],
   "source": [
    "r = [6, 7, 9, 8, 5, 7, 6, 9, 100, 130]"
   ]
  },
  {
   "cell_type": "code",
   "execution_count": 15,
   "id": "f5156e75",
   "metadata": {},
   "outputs": [
    {
     "data": {
      "text/plain": [
       "17.8125"
      ]
     },
     "execution_count": 15,
     "metadata": {},
     "output_type": "execute_result"
    }
   ],
   "source": [
    "# homework\n",
    "\n",
    "hw = (sum(r[1:8]) * 1.25) * 0.25"
   ]
  },
  {
   "cell_type": "code",
   "execution_count": 16,
   "id": "bf4159f8",
   "metadata": {},
   "outputs": [
    {
     "data": {
      "text/plain": [
       "29.165499999999998"
      ]
     },
     "execution_count": 16,
     "metadata": {},
     "output_type": "execute_result"
    }
   ],
   "source": [
    "# midterm\n",
    "\n",
    "mt = (r[9] * 0.8333) * 0.35"
   ]
  },
  {
   "cell_type": "code",
   "execution_count": 17,
   "id": "b004bc89",
   "metadata": {},
   "outputs": [
    {
     "data": {
      "text/plain": [
       "32.5"
      ]
     },
     "execution_count": 17,
     "metadata": {},
     "output_type": "execute_result"
    }
   ],
   "source": [
    "# final\n",
    "\n",
    "fin = (r[10] * 0.625) * 0.4"
   ]
  },
  {
   "cell_type": "code",
   "execution_count": 26,
   "id": "cfcef213",
   "metadata": {},
   "outputs": [
    {
     "data": {
      "text/plain": [
       "3-element Vector{Float64}:\n",
       " 17.8125\n",
       " 29.165499999999998\n",
       " 32.5"
      ]
     },
     "execution_count": 26,
     "metadata": {},
     "output_type": "execute_result"
    }
   ],
   "source": [
    "s = [hw, mt, fin]"
   ]
  },
  {
   "cell_type": "code",
   "execution_count": 27,
   "id": "a1dd76ad",
   "metadata": {},
   "outputs": [
    {
     "data": {
      "text/plain": [
       "79.478"
      ]
     },
     "execution_count": 27,
     "metadata": {},
     "output_type": "execute_result"
    }
   ],
   "source": [
    "sum(s)"
   ]
  },
  {
   "cell_type": "code",
   "execution_count": 31,
   "id": "0c97216c",
   "metadata": {},
   "outputs": [
    {
     "data": {
      "text/plain": [
       "3-element Vector{Float64}:\n",
       " 0.3125\n",
       " 0.2917\n",
       " 0.25"
      ]
     },
     "execution_count": 31,
     "metadata": {},
     "output_type": "execute_result"
    }
   ],
   "source": [
    "# w coefficients\n",
    "\n",
    "w = [hw/sum(r[1:8]), round(mt/r[9], digits =4), fin/r[10]]"
   ]
  },
  {
   "cell_type": "markdown",
   "id": "365db751",
   "metadata": {},
   "source": [
    "### Exercise 1.12. Total cash value\n",
    "\n",
    "An international company holds cash in five currencies: USD (US\n",
    "dollar), RMB (Chinese yuan), EUR (euro), GBP (British pound), and JPY (Japanese\n",
    "yen), in amounts given by the 5-vector c. For example, c2 gives the number of RMB held.\n",
    "Negative entries in c represent liabilities or amounts owed. Express the total (net) value\n",
    "of the cash in USD, using vector notation. Be sure to give the size and define the entries\n",
    "of any vectors that you introduce in your solution. Your solution can refer to currency\n",
    "exchange rates.\n"
   ]
  },
  {
   "cell_type": "code",
   "execution_count": 21,
   "id": "1d7ae5c9",
   "metadata": {},
   "outputs": [
    {
     "data": {
      "text/plain": [
       "5-element Vector{Int64}:\n",
       " 100\n",
       " 500\n",
       " 400\n",
       " 600\n",
       " 300"
      ]
     },
     "execution_count": 21,
     "metadata": {},
     "output_type": "execute_result"
    }
   ],
   "source": [
    "# cash amounts vector\n",
    "\n",
    "c = [100, 500, 400, 600, 300]\n"
   ]
  },
  {
   "cell_type": "code",
   "execution_count": 22,
   "id": "1c4e2f7e",
   "metadata": {},
   "outputs": [
    {
     "data": {
      "text/plain": [
       "5-element Vector{Float64}:\n",
       " 4.5\n",
       " 3.0\n",
       " 4.8\n",
       " 6.1\n",
       " 5.2"
      ]
     },
     "execution_count": 22,
     "metadata": {},
     "output_type": "execute_result"
    }
   ],
   "source": [
    "# exchange rate vector\n",
    "\n",
    "er = [4.5, 3.0, 4.8, 6.1, 5.2]"
   ]
  },
  {
   "cell_type": "code",
   "execution_count": 23,
   "id": "0452818e",
   "metadata": {},
   "outputs": [
    {
     "data": {
      "text/plain": [
       "9090.0"
      ]
     },
     "execution_count": 23,
     "metadata": {},
     "output_type": "execute_result"
    }
   ],
   "source": [
    "# Total cash value in another currency\n",
    "\n",
    "er'*c"
   ]
  },
  {
   "cell_type": "code",
   "execution_count": null,
   "id": "8c64ef45",
   "metadata": {},
   "outputs": [],
   "source": []
  }
 ],
 "metadata": {
  "kernelspec": {
   "display_name": "Julia 1.8.5",
   "language": "julia",
   "name": "julia-1.8"
  },
  "language_info": {
   "file_extension": ".jl",
   "mimetype": "application/julia",
   "name": "julia",
   "version": "1.8.5"
  }
 },
 "nbformat": 4,
 "nbformat_minor": 5
}
